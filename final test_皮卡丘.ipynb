{
 "cells": [
  {
   "cell_type": "code",
   "execution_count": 1,
   "metadata": {},
   "outputs": [],
   "source": [
    "import cocos\n",
    "import struct\n",
    "import pyaudio\n",
    "from cocos.sprite import Sprite\n",
    "from pyaudio import paInt16\n",
    "import random"
   ]
  },
  {
   "cell_type": "code",
   "execution_count": 2,
   "metadata": {},
   "outputs": [],
   "source": [
    "import pyglet\n",
    "black = pyglet.image.load(\"black.png\")\n",
    "pic = pyglet.image.load(\"花媽.png\")"
   ]
  },
  {
   "cell_type": "code",
   "execution_count": 3,
   "metadata": {},
   "outputs": [],
   "source": [
    "class Pikachu(cocos.sprite.Sprite):\n",
    "    def __init__(self):\n",
    "        super(Pikachu, self).__init__(pic)\n",
    "        self.image_anchor = 0 , 0\n",
    "        self.reset(False)\n",
    "        self.schedule(self.update)\n",
    "    \n",
    "    def jump(self,h):\n",
    "        if self.is_able_jump:\n",
    "            self.y += 1\n",
    "            self.speed -= max(min(h,6),8)\n",
    "            self.is_able_jump = False\n",
    "    \n",
    "    def land(self, y):\n",
    "        if self.y > y-25:\n",
    "            self.is_able_jump = True\n",
    "            self.speed = 0\n",
    "            self.y = y\n",
    "    \n",
    "    def update(self, dt):\n",
    "        self.speed += 10*dt\n",
    "        self.y -= self.speed\n",
    "        if self.y < -85:\n",
    "            self.reset()\n",
    "    \n",
    "    def reset(self, flag = True):\n",
    "        if flag: self.parent.reset()\n",
    "        self.is_able_jump = False\n",
    "        self.speed = 0\n",
    "        self.position = 80, 280\n",
    "\n"
   ]
  },
  {
   "cell_type": "code",
   "execution_count": 4,
   "metadata": {},
   "outputs": [],
   "source": [
    "class Block(cocos.sprite.Sprite):\n",
    "    def __init__(self,position):\n",
    "        super(Block,self).__init__(black)\n",
    "        self.image_anchor = 0 , 0\n",
    "        x, y = position\n",
    "        if x == 0:\n",
    "            self.scale_x = 4.5\n",
    "            self.scale_y = 1\n",
    "        else:\n",
    "            self.scale_x = 0.5 + random.random()*1.5\n",
    "            self.scale_y = min(max(y-50+random.random()*100,50),300)/100\n",
    "            self.position = x + 50+ random.random()*100,0"
   ]
  },
  {
   "cell_type": "code",
   "execution_count": 5,
   "metadata": {},
   "outputs": [],
   "source": [
    "#import cfg  ## 不知道這個的模組是什麼～～～無法import"
   ]
  },
  {
   "cell_type": "code",
   "execution_count": 6,
   "metadata": {},
   "outputs": [],
   "source": [
    "#import configparser"
   ]
  },
  {
   "cell_type": "code",
   "execution_count": 7,
   "metadata": {},
   "outputs": [],
   "source": [
    "#config = configparser.ConfigParser()"
   ]
  },
  {
   "cell_type": "code",
   "execution_count": 8,
   "metadata": {},
   "outputs": [],
   "source": [
    "class VoiceControlGame(cocos.layer.ColorLayer):\n",
    "    def __init__(self):\n",
    "        super(VoiceControlGame, self).__init__(255,255,255,255,800,600)\n",
    "        self.num_samples = 1000\n",
    "        \n",
    "        self.vbar = Sprite(black)\n",
    "        self.vbar.position = 20, 450\n",
    "        self.vbar.scale_y = 0.1\n",
    "        self.vbar.image_anchor = 0,0\n",
    "        self.add(self.vbar)\n",
    "        \n",
    "        self.pikachu = Pikachu()\n",
    "        self.add(self.pikachu)\n",
    "        \n",
    "        self.floor = cocos.cocosnode.CocosNode()\n",
    "        self.add(self.floor)\n",
    "        position = 0,100\n",
    "        for i in range(120):\n",
    "            b= Block(position)\n",
    "            self.floor.add(b)\n",
    "            position = b.x+b.width, b.height\n",
    "        \n",
    "        audio = pyaudio.PyAudio()\n",
    "        self.stream = audio.open(format = paInt16, channels=1, rate = int(audio.get_device_info_by_index(0)[\"defaultSampleRate\"]),input= True,frames_per_buffer=self.num_samples)\n",
    "        self.schedule(self.update)\n",
    "    \n",
    "    def collide(self):\n",
    "        diffx = self.pikachu.x - self.floor.x\n",
    "        for b in self.floor.get_children():\n",
    "            if(b.x <= diffx + self.pikachu.width*0.8) and (diffx + self.pikachu.width*0.2 <= b.x + b.width):\n",
    "                if self.pikachu.y < b.height:\n",
    "                    self.pikachu.land(b.height)\n",
    "                    break\n",
    "    \n",
    "    def update(self, dt):\n",
    "        audio_data = self.stream.read(self.num_samples, exception_on_overflow = False)\n",
    "        k = max(struct.unpack(\"1000h\",audio_data))\n",
    "        self.vbar.scale_x = k/10000\n",
    "        if k > 3000:\n",
    "            self.floor.x -= min((k/20),150)*dt\n",
    "        if k > 8000:\n",
    "            self.pikachu.jump((k-7000)/1000)\n",
    "        self.collide()\n",
    "    \n",
    "    def reset(self):\n",
    "        self.floor.x = 0  "
   ]
  },
  {
   "cell_type": "code",
   "execution_count": null,
   "metadata": {},
   "outputs": [],
   "source": [
    "if __name__ == \"__main__\":\n",
    "    cocos.director.director.init(caption=\"go go\")\n",
    "    cocos.director.director.run(cocos.scene.Scene(VoiceControlGame()))  "
   ]
  },
  {
   "cell_type": "code",
   "execution_count": null,
   "metadata": {},
   "outputs": [],
   "source": []
  }
 ],
 "metadata": {
  "kernelspec": {
   "display_name": "Python 3",
   "language": "python",
   "name": "python3"
  },
  "language_info": {
   "codemirror_mode": {
    "name": "ipython",
    "version": 3
   },
   "file_extension": ".py",
   "mimetype": "text/x-python",
   "name": "python",
   "nbconvert_exporter": "python",
   "pygments_lexer": "ipython3",
   "version": "3.8.3"
  }
 },
 "nbformat": 4,
 "nbformat_minor": 4
}
